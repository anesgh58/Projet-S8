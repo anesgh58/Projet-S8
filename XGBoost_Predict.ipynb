{
 "cells": [
  {
   "cell_type": "code",
   "execution_count": 13,
   "metadata": {},
   "outputs": [],
   "source": [
    "import os\n",
    "import numpy as np\n",
    "from sklearn.feature_extraction.text import TfidfVectorizer\n",
    "from sklearn.preprocessing import LabelEncoder\n",
    "import xgboost as xgb\n",
    "import joblib\n",
    "\n",
    "# Chemin vers le dossier contenant les données\n",
    "data_folder = \"C:/Users/cleme/Desktop/ProjetS8\"\n",
    "\n",
    "# Chargement du modèle entraîné depuis le fichier\n",
    "model_path = os.path.join(data_folder, \"model.joblib\")\n",
    "classifier = joblib.load(model_path)\n",
    "\n",
    "# Chargement du vecteuriseur TF-IDF depuis le fichier\n",
    "vectorizer_path = os.path.join(data_folder, \"vectorizer.joblib\")\n",
    "vectorizer = joblib.load(vectorizer_path)\n",
    "\n",
    "# Chargement de l'encodeur de labels depuis le fichier\n",
    "label_encoder_path = os.path.join(data_folder, \"label_encoder.npy\")\n",
    "label_encoder = LabelEncoder()\n",
    "label_encoder.classes_ = np.load(label_encoder_path, allow_pickle=True)\n",
    "\n",
    "# Chemin vers le fichier \"signals.csv\"\n",
    "test_file_path = os.path.join(data_folder, \"test/signal.csv\")\n",
    "\n",
    "# Lecture du fichier \"signals.csv\"\n",
    "with open(test_file_path, 'r') as file:\n",
    "    signal = file.read().strip()  # Lire le signal unique\n",
    "\n",
    "# Extraction des caractéristiques à partir du signal\n",
    "X_test = vectorizer.transform([signal])\n"
   ]
  },
  {
   "cell_type": "code",
   "execution_count": 12,
   "metadata": {},
   "outputs": [
    {
     "name": "stdout",
     "output_type": "stream",
     "text": [
      "Prédiction: 1\n"
     ]
    }
   ],
   "source": [
    "# Prédiction sur le signal de test\n",
    "prediction = classifier.predict(X_test)[0]\n",
    "\n",
    "# Décode la prédiction en utilisant l'encodeur de labels\n",
    "decoded_prediction = label_encoder.inverse_transform([prediction])[0]\n",
    "\n",
    "# Affichage de la prédiction\n",
    "print(f\"Prédiction: {decoded_prediction}\")"
   ]
  }
 ],
 "metadata": {
  "kernelspec": {
   "display_name": "base",
   "language": "python",
   "name": "python3"
  },
  "language_info": {
   "codemirror_mode": {
    "name": "ipython",
    "version": 3
   },
   "file_extension": ".py",
   "mimetype": "text/x-python",
   "name": "python",
   "nbconvert_exporter": "python",
   "pygments_lexer": "ipython3",
   "version": "3.9.13"
  },
  "orig_nbformat": 4
 },
 "nbformat": 4,
 "nbformat_minor": 2
}
