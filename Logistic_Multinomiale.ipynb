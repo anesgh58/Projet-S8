{
 "cells": [
  {
   "cell_type": "code",
   "execution_count": 1,
   "metadata": {},
   "outputs": [],
   "source": [
    "# Imports\n",
    "import os\n",
    "import numpy as np\n",
    "from sklearn.feature_extraction.text import TfidfVectorizer\n",
    "from sklearn.svm import LinearSVC\n",
    "from sklearn.model_selection import train_test_split\n",
    "from sklearn.linear_model import LogisticRegression"
   ]
  },
  {
   "cell_type": "code",
   "execution_count": 2,
   "metadata": {},
   "outputs": [],
   "source": [
    "# Chemin vers le dossier contenant les données\n",
    "data_folder = \"C:/Users/cleme/Desktop/ProjetS8/data\"\n",
    "\n",
    "# Obtention de la liste des dossiers (classes)\n",
    "classes = os.listdir(data_folder)\n",
    "\n",
    "# Liste pour stocker les vecteurs d'entraînement\n",
    "X = []\n",
    "# Liste pour stocker les étiquettes (classes) correspondantes\n",
    "y = []\n",
    "\n",
    "# Parcours de chaque dossier/classe\n",
    "for class_name in classes:\n",
    "    folder_path = os.path.join(data_folder, class_name)\n",
    "    if not os.path.isdir(folder_path):\n",
    "        continue\n",
    "    \n",
    "    # Chemin vers le fichier \"signals.csv\"\n",
    "    file_path = os.path.join(folder_path, \"signals.csv\")\n",
    "    \n",
    "    # Lecture du fichier CSV contenant les signaux\n",
    "    with open(file_path, \"r\") as file:\n",
    "        signals = file.readlines()\n",
    "    \n",
    "    # Ajout des signaux à X et l'étiquette à y\n",
    "    X.extend(signals)\n",
    "    y.extend([class_name] * len(signals))"
   ]
  },
  {
   "cell_type": "code",
   "execution_count": 3,
   "metadata": {},
   "outputs": [
    {
     "data": {
      "text/plain": [
       "LogisticRegression(multi_class='multinomial')"
      ]
     },
     "execution_count": 3,
     "metadata": {},
     "output_type": "execute_result"
    }
   ],
   "source": [
    "# Création du vecteuriseur pour extraire les caractéristiques des vecteurs\n",
    "vectorizer = TfidfVectorizer()\n",
    "\n",
    "# Extraction des caractéristiques à partir des vecteurs d'entraînement\n",
    "X = vectorizer.fit_transform(X)\n",
    "\n",
    "# Division des données en ensembles d'entraînement et de test\n",
    "X_train, X_test, y_train, y_test = train_test_split(X, y, test_size=0.2, random_state=42)\n",
    "\n",
    "# Création du classifieur de régression logistique multinomiale\n",
    "classifier = LogisticRegression(multi_class='multinomial', solver='lbfgs')\n",
    "\n",
    "# Entraînement du classifieur\n",
    "classifier.fit(X_train, y_train)"
   ]
  },
  {
   "cell_type": "code",
   "execution_count": 4,
   "metadata": {},
   "outputs": [
    {
     "name": "stdout",
     "output_type": "stream",
     "text": [
      "Précision du classifieur : 73.66%\n"
     ]
    }
   ],
   "source": [
    "# Prédiction sur l'ensemble de test\n",
    "predictions = classifier.predict(X_test)\n",
    "\n",
    "# Évaluation des performances\n",
    "accuracy = np.mean(predictions == y_test)\n",
    "print(\"Précision du classifieur : {:.2f}%\".format(accuracy * 100))"
   ]
  }
 ],
 "metadata": {
  "kernelspec": {
   "display_name": "base",
   "language": "python",
   "name": "python3"
  },
  "language_info": {
   "codemirror_mode": {
    "name": "ipython",
    "version": 3
   },
   "file_extension": ".py",
   "mimetype": "text/x-python",
   "name": "python",
   "nbconvert_exporter": "python",
   "pygments_lexer": "ipython3",
   "version": "3.9.13"
  },
  "orig_nbformat": 4
 },
 "nbformat": 4,
 "nbformat_minor": 2
}
