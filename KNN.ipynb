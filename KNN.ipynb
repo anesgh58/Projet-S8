{
 "cells": [
  {
   "cell_type": "code",
   "execution_count": 1,
   "metadata": {},
   "outputs": [
    {
     "name": "stdout",
     "output_type": "stream",
     "text": [
      "Précision du classifieur : 56.68%\n"
     ]
    },
    {
     "name": "stderr",
     "output_type": "stream",
     "text": [
      "c:\\Users\\cleme\\anaconda3\\lib\\site-packages\\sklearn\\neighbors\\_classification.py:228: FutureWarning: Unlike other reduction functions (e.g. `skew`, `kurtosis`), the default behavior of `mode` typically preserves the axis it acts along. In SciPy 1.11.0, this behavior will change: the default value of `keepdims` will become False, the `axis` over which the statistic is taken will be eliminated, and the value None will no longer be accepted. Set `keepdims` to True or False to avoid this warning.\n",
      "  mode, _ = stats.mode(_y[neigh_ind, k], axis=1)\n"
     ]
    }
   ],
   "source": [
    "import os\n",
    "import numpy as np\n",
    "from sklearn.feature_extraction.text import TfidfVectorizer\n",
    "from sklearn.neighbors import KNeighborsClassifier\n",
    "from sklearn.model_selection import train_test_split\n",
    "\n",
    "# Chemin vers le dossier contenant les données\n",
    "data_folder = \"C:/Users/cleme/Desktop/ProjetS8/data\"\n",
    "\n",
    "# Obtention de la liste des dossiers (classes)\n",
    "classes = os.listdir(data_folder)\n",
    "\n",
    "# Liste pour stocker les vecteurs d'entraînement\n",
    "X = []\n",
    "# Liste pour stocker les étiquettes (classes) correspondantes\n",
    "y = []\n",
    "\n",
    "# Parcours de chaque dossier/classe\n",
    "for class_name in classes:\n",
    "    folder_path = os.path.join(data_folder, class_name)\n",
    "    if not os.path.isdir(folder_path):\n",
    "        continue\n",
    "    \n",
    "    # Chemin vers le fichier \"signals.csv\"\n",
    "    file_path = os.path.join(folder_path, \"signals.csv\")\n",
    "    \n",
    "    # Lecture du fichier CSV contenant les signaux\n",
    "    with open(file_path, \"r\") as file:\n",
    "        signals = file.readlines()\n",
    "    \n",
    "    # Ajout des signaux à X et l'étiquette à y\n",
    "    X.extend(signals)\n",
    "    y.extend([class_name] * len(signals))\n",
    "\n",
    "# Création du vecteuriseur pour extraire les caractéristiques des vecteurs\n",
    "vectorizer = TfidfVectorizer()\n",
    "\n",
    "# Extraction des caractéristiques à partir des vecteurs d'entraînement\n",
    "X = vectorizer.fit_transform(X)\n",
    "\n",
    "# Division des données en ensembles d'entraînement et de test\n",
    "X_train, X_test, y_train, y_test = train_test_split(X, y, test_size=0.2, random_state=42)\n",
    "\n",
    "# Création du classifieur KNN avec 6 voisins\n",
    "classifier = KNeighborsClassifier(n_neighbors=6)\n",
    "\n",
    "# Entraînement du classifieur\n",
    "classifier.fit(X_train, y_train)\n",
    "\n",
    "# Prédiction sur l'ensemble de test\n",
    "predictions = classifier.predict(X_test)\n",
    "\n",
    "# Évaluation des performances\n",
    "accuracy = np.mean(predictions == y_test)\n",
    "print(\"Précision du classifieur : {:.2f}%\".format(accuracy * 100))\n"
   ]
  }
 ],
 "metadata": {
  "kernelspec": {
   "display_name": "base",
   "language": "python",
   "name": "python3"
  },
  "language_info": {
   "codemirror_mode": {
    "name": "ipython",
    "version": 3
   },
   "file_extension": ".py",
   "mimetype": "text/x-python",
   "name": "python",
   "nbconvert_exporter": "python",
   "pygments_lexer": "ipython3",
   "version": "3.9.13"
  },
  "orig_nbformat": 4
 },
 "nbformat": 4,
 "nbformat_minor": 2
}
